{
 "cells": [
  {
   "cell_type": "code",
   "execution_count": 34,
   "metadata": {},
   "outputs": [],
   "source": [
    "import pandas as pd\n",
    "from Crypto.Hash import SHA512\n",
    "\n",
    "#importpath = '/Users/aldar/Documents/CRG-EGA/EuCanImage/Hashing/Import/Test.csv'\n",
    "#secretkey = 'SgkZFJIlWeTJ7rZaeJq8jhRrWqknQSKfOCF99cRMIEg07aBPMkTivFjtn7XE83pu'\n",
    "#columnid = 'PatientID'\n",
    "#exportpath = '/Users/aldar/Documents/CRG-EGA/EuCanImage/Hashing/Export/TestHash.csv'"
   ]
  },
  {
   "cell_type": "code",
   "execution_count": 41,
   "metadata": {},
   "outputs": [],
   "source": [
    "#This section can be deleted/hidden in comments if you prefer using the variables directly instead (above)\n",
    "importpath = input('Enter the absolute path of the file containing the IDs to be hashed: ')\n",
    "secretkey = input('Enter the secret key to be used for hashing: ')\n",
    "columnid = input('Enter the name of the column containing the IDs to be hashed: ')\n",
    "exportpath = input('Enter the absolute path of the file to export the new file with the Hashed IDs: ')"
   ]
  },
  {
   "cell_type": "code",
   "execution_count": 43,
   "metadata": {},
   "outputs": [],
   "source": [
    "df = pd.read_csv(importpath)\n",
    "patientidlist = df[columnid].values.tolist()"
   ]
  },
  {
   "cell_type": "code",
   "execution_count": 38,
   "metadata": {},
   "outputs": [
    {
     "name": "stdout",
     "output_type": "stream",
     "text": [
      "3f6bd6265572558d1cec7cdf955e8f158e524ad3716b677688a7e760e260442e\n"
     ]
    }
   ],
   "source": [
    "patientid = patientidlist[0]\n",
    "text = str(secretkey)+str(patientid)\n",
    "hashObject = SHA512.new(truncate='256')\n",
    "hashObject.update(text.encode('utf-8'))\n",
    "digest = hashObject.hexdigest()\n",
    "\n",
    "print(digest)"
   ]
  },
  {
   "cell_type": "code",
   "execution_count": 44,
   "metadata": {},
   "outputs": [],
   "source": [
    "hashlist = []\n",
    "for index in range(len(df)):\n",
    "    patientid = patientidlist[index]\n",
    "    text = str(secretkey)+str(patientid)\n",
    "    hashObject = SHA512.new(truncate='256')\n",
    "    hashObject.update(text.encode('utf-8'))\n",
    "    digest = hashObject.hexdigest()\n",
    "    hashlist.append(digest)\n",
    "df['Hash-ID'] = hashlist\n",
    "df.to_csv(exportpath,index=False)"
   ]
  }
 ],
 "metadata": {
  "kernelspec": {
   "display_name": "Python 3",
   "language": "python",
   "name": "python3"
  },
  "language_info": {
   "codemirror_mode": {
    "name": "ipython",
    "version": 3
   },
   "file_extension": ".py",
   "mimetype": "text/x-python",
   "name": "python",
   "nbconvert_exporter": "python",
   "pygments_lexer": "ipython3",
   "version": "3.11.2"
  },
  "orig_nbformat": 4
 },
 "nbformat": 4,
 "nbformat_minor": 2
}
